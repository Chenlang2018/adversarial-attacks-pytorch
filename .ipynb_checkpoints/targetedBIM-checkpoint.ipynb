{
 "cells": [
  {
   "cell_type": "code",
   "execution_count": 1,
   "metadata": {},
   "outputs": [],
   "source": [
    "import torch \n",
    "import torch.nn as nn\n",
    "import os\n",
    "import matplotlib.pyplot as plt\n",
    "import numpy as np\n",
    "import torch.optim as optim\n",
    "import torchvision\n",
    "import torch.nn.functional as F\n",
    "from Model import get_model\n",
    "from utils import *\n",
    "from visualize import visualise\n",
    "import math\n"
   ]
  },
  {
   "cell_type": "code",
   "execution_count": null,
   "metadata": {},
   "outputs": [],
   "source": [
    "class BIM_targeted(object):\n",
    "    def __init__(self,model,criterion,orig_img,orig_label,targetLabel,eps,alpha,num_iters=0,random_state=False):\n",
    "        self.model = model\n",
    "        self.criterion = criterion\n",
    "        self.orig_img = orig_img.clone()\n",
    "        self.eps = eps\n",
    "        self.orig_label = orig_label\n",
    "        self..targetLabel = targetLabel\n",
    "        self.alpha = alpha\n",
    "        self.rand = random_state\n",
    "        self.img_bim = torch.tensor(orig_img.data,requires_grad=True)\n",
    "        if not random_state:\n",
    "            self.num_iters = math.ceil(min(self.eps+4,1.25*self.eps))\n",
    "        else:\n",
    "            self.num_iters=num_iters\n",
    "        # self.num_iters = 3\n",
    "    def attack(self):\n",
    "        if self.rand:                   # attack changes from BIM to Madry's PGD\n",
    "            delta_init = torch.from_numpy(np.random.uniform(-self.eps,self.eps,self.orig_img.shape)).type(torch.FloatTensor)\n",
    "            self.img_bim = torch.tensor(self.img_bim.data+ delta_init,requires_grad=True)\n",
    "            clipped_delta = torch.clamp(self.img_bim.data-self.orig_img.data, -self.eps,self.eps)\n",
    "            self.img_bim = torch.tensor(self.orig_img.data+clipped_delta,requires_grad=True)\n",
    "\n",
    "\n",
    "\n",
    "        loss_arr = []\n",
    "        \n",
    "        output_tr,pred_label,op_probs,pred_prob = getPredictionInfo(self.model,self.orig_img)\n",
    "        # output_tr = self.model(self.orig_img)\n",
    "        # op_probs = F.softmax(output_tr,dim=1)\n",
    "        # pred_prob = ((torch.max(op_probs.data, 1)[0][0]) * 100, 4)\n",
    "        # _,pred_label = torch.max(output_tr.data,1)\n",
    "        \n",
    "        # iterative attack\n",
    "#         print('Iters',self.num_iters)\n",
    "        for i in range(self.num_iters):\n",
    "#             print(i)\n",
    "            output = self.model(self.img_bim)\n",
    "#             print(type(output))\n",
    "#             print(type(self.label))\n",
    "            loss = self.criterion(output, self.targetLabel)        # compute loss be output and target label\n",
    "#             print(loss)\n",
    "            loss.backward()\n",
    "            delta = self.alpha * torch.sign(self.img_bim.grad.data)\n",
    "            self.img_bim = torch.tensor(self.img_bim.data - delta, requires_grad=True) # adversary without clipping\n",
    "            \n",
    "            clipped_delta = torch.clamp(self.img_bim.data-self.orig_img.data, -self.eps,self.eps) #clipping the delta\n",
    "            self.img_bim = torch.tensor(self.orig_img.data-clipped_delta,requires_grad=True) # adding the clipped delta to original image\n",
    "            loss_arr.append(loss)\n",
    "        return self.img_bim, clipped_delta, loss_arr\n"
   ]
  }
 ],
 "metadata": {
  "kernelspec": {
   "display_name": "Python 3",
   "language": "python",
   "name": "python3"
  },
  "language_info": {
   "codemirror_mode": {
    "name": "ipython",
    "version": 3
   },
   "file_extension": ".py",
   "mimetype": "text/x-python",
   "name": "python",
   "nbconvert_exporter": "python",
   "pygments_lexer": "ipython3",
   "version": "3.5.2"
  }
 },
 "nbformat": 4,
 "nbformat_minor": 2
}
