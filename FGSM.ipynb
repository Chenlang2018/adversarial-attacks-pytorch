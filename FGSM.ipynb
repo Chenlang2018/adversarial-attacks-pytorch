{
 "cells": [
  {
   "cell_type": "code",
   "execution_count": 1,
   "metadata": {},
   "outputs": [],
   "source": [
    "import torch\n",
    "import torch.nn.functional as F"
   ]
  },
  {
   "cell_type": "code",
   "execution_count": 2,
   "metadata": {},
   "outputs": [],
   "source": [
    "class FGSM(object):\n",
    "    def __init__(self,model,criterion,orig_img,orig_label,eps):\n",
    "        self.model = model\n",
    "        self.criterion = criterion\n",
    "        self.orig_img = orig_img\n",
    "        self.epsilon = eps\n",
    "        self.orig_label = orig_label\n",
    "        \n",
    "    def attack():\n",
    "        output = self.model(self.orig_img)\n",
    "        loss = self.criterion(output,self.orig_label)\n",
    "        loss.backward(retain_graph=True)\n",
    "        img_grad = torch.sign(self.orig_img.grad.data)             # sign of the gradient\n",
    "        adv_img = self.orig_img.data + self.epsilon*img_grad\n",
    "#         output_adv = self.model(torch.tensor(adv_img))\n",
    "#         _,pred_adv = torch.max(output_adv.data,1)\n",
    "#     #     print(adv_img.data-img.data)\n",
    "#         op_adv_probs = F.softmax(output_adv, dim=1)                 #get probability distribution over classes\n",
    "#         adv_pred_prob =  ((torch.max(op_adv_probs.data, 1)[0][0]) * 100, 4)      #find probability (confidence) of a predicted class\n",
    "    #     print(float(adv_pred_prob[0]),float(pred_adv))\n",
    "\n",
    "        return adv_img,img_grad"
   ]
  },
  {
   "cell_type": "code",
   "execution_count": null,
   "metadata": {},
   "outputs": [],
   "source": []
  }
 ],
 "metadata": {
  "kernelspec": {
   "display_name": "Python 3",
   "language": "python",
   "name": "python3"
  },
  "language_info": {
   "codemirror_mode": {
    "name": "ipython",
    "version": 3
   },
   "file_extension": ".py",
   "mimetype": "text/x-python",
   "name": "python",
   "nbconvert_exporter": "python",
   "pygments_lexer": "ipython3",
   "version": "3.5.2"
  }
 },
 "nbformat": 4,
 "nbformat_minor": 2
}
