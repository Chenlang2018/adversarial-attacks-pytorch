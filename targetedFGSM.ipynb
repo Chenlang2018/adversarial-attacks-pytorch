{
 "cells": [
  {
   "cell_type": "code",
   "execution_count": 1,
   "metadata": {},
   "outputs": [],
   "source": [
    "\n",
    "import torch\n",
    "import torch.nn.functional as F\n",
    "from utils import *"
   ]
  },
  {
   "cell_type": "code",
   "execution_count": null,
   "metadata": {},
   "outputs": [],
   "source": [
    "class FGSM_targeted(object):\n",
    "    def __init__(self,model,criterion,orig_img,orig_label,target_label,eps):\n",
    "        self.model = model\n",
    "        self.criterion = criterion                                                                          \n",
    "        self.orig_img = orig_img\n",
    "        self.epsilon = eps\n",
    "        self.targetLabel = target_label\n",
    "        self.orig_label = orig_label\n",
    "        \n",
    "    def attack(self):\n",
    "        # output = self.model(self.orig_img)\n",
    "        # op_probs = F.softmax(output,dim=1)\n",
    "        # pred_prob = ((torch.max(op_probs.data, 1)[0][0]) * 100, 4)\n",
    "        # _,pred_label = torch.max(output.data,1)\n",
    "        output,pred,op_probs,pred_prob = getPredictionInfo(self.model,self.orig_img)\n",
    "\n",
    "        # print(output.size())\n",
    "        # print(self.orig_label)\n",
    "        loss = self.criterion(output,self.targetLabel)\n",
    "        # print(loss)\n",
    "        loss.backward()                                                                                                                                                                                                                                                                                                                                                                                                                                                                                                                                                                                                                                                                                                                                                                                                                                                                                                                                                                                                                                                                                                                                                                                                                                                                                                                                                                                                                                                                                                                                                                                     \n",
    "        img_grad = torch.sign(self.orig_img.grad.data)             # sign of the gradient\n",
    "        adv_img = self.orig_img.data - self.epsilon*img_grad\n",
    "#         output_adv = self.model(torch.tensor(adv_img))\n",
    "#         _,pred_adv = torch.max(output_adv.data,1)\n",
    "#     #     print(adv_img.data-img.data)\n",
    "#         op_adv_probs = F.softmax(output_adv, dim=1)                 #get probability distribution over classes\n",
    "#         adv_pred_prob =  ((torch.max(op_adv_probs.data, 1)[0][0]) * 100, 4)      #find probability (confidence) of a predicted class\n",
    "    #     print(float(adv_pred_prob[0]),float(pred_adv))\n",
    "\n",
    "        return adv_img,img_grad\n"
   ]
  }
 ],
 "metadata": {
  "kernelspec": {
   "display_name": "Python 3",
   "language": "python",
   "name": "python3"
  },
  "language_info": {
   "codemirror_mode": {
    "name": "ipython",
    "version": 3
   },
   "file_extension": ".py",
   "mimetype": "text/x-python",
   "name": "python",
   "nbconvert_exporter": "python",
   "pygments_lexer": "ipython3",
   "version": "3.5.2"
  }
 },
 "nbformat": 4,
 "nbformat_minor": 2
}
