{
 "cells": [
  {
   "cell_type": "code",
   "execution_count": 2,
   "metadata": {},
   "outputs": [],
   "source": [
    "import requests\n",
    "from io import BytesIO\n",
    "import urllib.request as url_req\n",
    "from PIL import Image"
   ]
  },
  {
   "cell_type": "code",
   "execution_count": 3,
   "metadata": {},
   "outputs": [],
   "source": [
    "def urltoImg(url):\n",
    "    print(url)\n",
    "    try:\n",
    "        img = Image.open(url_req.urlopen(url))\n",
    "    except Exception as error:\n",
    "        print(\"Couldn't load image \"+str(error))\n",
    "    \n",
    "    return img "
   ]
  },
  {
   "cell_type": "code",
   "execution_count": 1,
   "metadata": {},
   "outputs": [],
   "source": [
    "def tanh_rescale(x, x_min=-1., x_max=1.):\n",
    "    return (torch.tanh(x) + 1) * 0.5 * (x_max - x_min) + x_min\n",
    "\n",
    "def reduce_sum(x, keepdim=True):\n",
    "    # silly PyTorch, when will you get proper reducing sums/means?\n",
    "    for a in reversed(range(1, x.dim())):\n",
    "        x = x.sum(a, keepdim=keepdim)\n",
    "    return x\n",
    "\n",
    "def l2_dist(x, y, keepdim=True):\n",
    "    d = (x - y)**2\n",
    "    return reduce_sum(d, keepdim=keepdim)\n",
    "\n",
    "def torch_arctanh(x, eps=1e-6):\n",
    "    x = x*(1. - eps)\n",
    "    return (torch.log((1 + x) / (1 - x))) * 0.5"
   ]
  },
  {
   "cell_type": "code",
   "execution_count": null,
   "metadata": {},
   "outputs": [],
   "source": []
  }
 ],
 "metadata": {
  "kernelspec": {
   "display_name": "Python 3",
   "language": "python",
   "name": "python3"
  },
  "language_info": {
   "codemirror_mode": {
    "name": "ipython",
    "version": 3
   },
   "file_extension": ".py",
   "mimetype": "text/x-python",
   "name": "python",
   "nbconvert_exporter": "python",
   "pygments_lexer": "ipython3",
   "version": "3.5.2"
  }
 },
 "nbformat": 4,
 "nbformat_minor": 2
}
